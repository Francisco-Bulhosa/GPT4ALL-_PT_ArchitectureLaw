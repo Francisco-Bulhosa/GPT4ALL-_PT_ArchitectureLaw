{
 "cells": [
  {
   "cell_type": "code",
   "execution_count": 4,
   "metadata": {},
   "outputs": [
    {
     "name": "stdout",
     "output_type": "stream",
     "text": [
      "Folder Path: C:/Users/franc/Documents/GitHub/LangchainDocuments/PDFs\n",
      "DataFrame extracted from C:/Users/franc/Documents/GitHub/LangchainDocuments/PDFs\\acessibilidades.pdf and saved to C:/Users/franc/Documents/GitHub/LangchainDocuments/PDFs\\acessibilidades.csv\n",
      "DataFrame extracted from C:/Users/franc/Documents/GitHub/LangchainDocuments/PDFs\\portaria113_15.pdf and saved to C:/Users/franc/Documents/GitHub/LangchainDocuments/PDFs\\portaria113_15.csv\n",
      "DataFrame extracted from C:/Users/franc/Documents/GitHub/LangchainDocuments/PDFs\\rgeu.pdf and saved to C:/Users/franc/Documents/GitHub/LangchainDocuments/PDFs\\rgeu.csv\n",
      "DataFrame extracted from C:/Users/franc/Documents/GitHub/LangchainDocuments/PDFs\\rjue.pdf and saved to C:/Users/franc/Documents/GitHub/LangchainDocuments/PDFs\\rjue.csv\n"
     ]
    }
   ],
   "source": [
    "import os\n",
    "import PyPDF2\n",
    "import re\n",
    "import pandas as pd\n",
    "\n",
    "def extract_articles(pdf_reader):\n",
    "    articles = []\n",
    "    text_contents = []\n",
    "\n",
    "    for page_num in range(num_pages):\n",
    "        page = pdf_reader.pages[page_num]\n",
    "        text = page.extract_text()\n",
    "        lines = text.split('\\n')\n",
    "\n",
    "        for line in lines:\n",
    "            match = re.search(r'Artigo (\\d+\\.º)', line)\n",
    "            if match:\n",
    "                articles.append(f'Artigo {match.group(1)}')  # Append \"Artigo\" along with the article number\n",
    "                text_contents.append('')\n",
    "            if articles:\n",
    "               if not line.startswith('Artigo '):  # Check if the line doesn't start with 'Artigo '\n",
    "                    text_contents[-1] += line.strip() + ' '\n",
    "\n",
    "    return articles, text_contents\n",
    "\n",
    "# Input prompt for the folder path\n",
    "folder_path = input(\"Enter the folder path containing the PDF files: \").replace('\\\\', '/')\n",
    "print(\"Folder Path:\", folder_path)\n",
    "\n",
    "# List all the PDF files in the folder\n",
    "pdf_files = [file for file in os.listdir(folder_path) if file.lower().endswith('.pdf')]\n",
    "\n",
    "# Loop through each PDF file in the folder and extract data\n",
    "for pdf_file in pdf_files:\n",
    "    pdf_file_path = os.path.join(folder_path, pdf_file)\n",
    "\n",
    "    with open(pdf_file_path, 'rb') as file:\n",
    "        pdf_reader = PyPDF2.PdfReader(file)\n",
    "        num_pages = len(pdf_reader.pages)\n",
    "\n",
    "        articles, text_contents = extract_articles(pdf_reader)\n",
    "\n",
    "    # Convert all elements in the 'Article' column to strings\n",
    "    articles = [str(article) for article in articles]\n",
    "\n",
    "    data = {'Article': articles, 'Text': text_contents}\n",
    "    df = pd.DataFrame(data)\n",
    "\n",
    "    # Fill NaN values in the 'Text' column with an empty string\n",
    "    df['Text'] = df['Text'].fillna('')\n",
    "\n",
    "    # Remove line breaks from the 'Text' column using apply and lambda function\n",
    "    df['Text'] = df['Text'].apply(lambda x: x.replace('\\n', ' '))\n",
    "\n",
    "    # Create the output CSV file name based on the PDF file name\n",
    "    output_csv_file = os.path.splitext(pdf_file)[0] + \".csv\"\n",
    "\n",
    "    # Save the DataFrame as a CSV file\n",
    "    output_csv_path = os.path.join(folder_path, output_csv_file)\n",
    "    df.to_csv(output_csv_path, index=False)\n",
    "\n",
    "    print(f\"DataFrame extracted from {pdf_file_path} and saved to {output_csv_path}\")\n"
   ]
  }
 ],
 "metadata": {
  "kernelspec": {
   "display_name": "llm_law",
   "language": "python",
   "name": "python3"
  },
  "language_info": {
   "codemirror_mode": {
    "name": "ipython",
    "version": 3
   },
   "file_extension": ".py",
   "mimetype": "text/x-python",
   "name": "python",
   "nbconvert_exporter": "python",
   "pygments_lexer": "ipython3",
   "version": "3.10.12"
  },
  "orig_nbformat": 4
 },
 "nbformat": 4,
 "nbformat_minor": 2
}
