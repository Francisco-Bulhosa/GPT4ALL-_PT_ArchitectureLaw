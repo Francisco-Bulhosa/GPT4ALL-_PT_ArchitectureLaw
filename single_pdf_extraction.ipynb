{
 "cells": [
  {
   "cell_type": "code",
   "execution_count": 55,
   "metadata": {},
   "outputs": [],
   "source": [
    "import PyPDF2\n",
    "import pandas as pd\n",
    "import re"
   ]
  },
  {
   "cell_type": "code",
   "execution_count": 56,
   "metadata": {},
   "outputs": [
    {
     "name": "stdout",
     "output_type": "stream",
     "text": [
      "PDF File Path: \n"
     ]
    }
   ],
   "source": [
    "# Replace with the actual file path\n",
    "# pdf_file_path = 'C:/Users/franc/Documents/GitHub/LangchainDocuments/rgeu.pdf'\n",
    "\n",
    "# Input prompt for the file path\n",
    "pdf_file_path = input(\"Enter the file path of the PDF: \").replace('\\\\', '/')\n",
    "print(\"PDF File Path:\", pdf_file_path)"
   ]
  },
  {
   "cell_type": "code",
   "execution_count": 57,
   "metadata": {},
   "outputs": [],
   "source": [
    "def extract_articles(pdf_reader):\n",
    "    articles = []\n",
    "    text_contents = []\n",
    "\n",
    "    for page_num in range(num_pages):\n",
    "        page = pdf_reader.pages[page_num]\n",
    "        text = page.extract_text()\n",
    "        lines = text.split('\\n')\n",
    "\n",
    "        for line in lines:\n",
    "            match = re.search(r'Artigo (\\d+\\.º)', line)\n",
    "            if match:\n",
    "                articles.append(f'Artigo {match.group(1)}')  # Append \"Artigo\" along with the article number\n",
    "                text_contents.append('')\n",
    "            if articles:\n",
    "               if not line.startswith('Artigo '):  # Check if the line doesn't start with 'Artigo '\n",
    "                    text_contents[-1] += line.strip() + ' '\n",
    "\n",
    "    return articles, text_contents\n"
   ]
  },
  {
   "cell_type": "code",
   "execution_count": 58,
   "metadata": {},
   "outputs": [
    {
     "ename": "FileNotFoundError",
     "evalue": "[Errno 2] No such file or directory: ''",
     "output_type": "error",
     "traceback": [
      "\u001b[1;31m---------------------------------------------------------------------------\u001b[0m",
      "\u001b[1;31mFileNotFoundError\u001b[0m                         Traceback (most recent call last)",
      "Cell \u001b[1;32mIn[58], line 1\u001b[0m\n\u001b[1;32m----> 1\u001b[0m \u001b[39mwith\u001b[39;00m \u001b[39mopen\u001b[39;49m(pdf_file_path, \u001b[39m'\u001b[39;49m\u001b[39mrb\u001b[39;49m\u001b[39m'\u001b[39;49m) \u001b[39mas\u001b[39;00m file:\n\u001b[0;32m      2\u001b[0m     pdf_reader \u001b[39m=\u001b[39m PyPDF2\u001b[39m.\u001b[39mPdfReader(file)\n\u001b[0;32m      3\u001b[0m     num_pages \u001b[39m=\u001b[39m \u001b[39mlen\u001b[39m(pdf_reader\u001b[39m.\u001b[39mpages)\n",
      "File \u001b[1;32mc:\\Users\\franc\\Documents\\Data_Science\\Anaconda_Navigator\\envs\\llm_law\\lib\\site-packages\\IPython\\core\\interactiveshell.py:284\u001b[0m, in \u001b[0;36m_modified_open\u001b[1;34m(file, *args, **kwargs)\u001b[0m\n\u001b[0;32m    277\u001b[0m \u001b[39mif\u001b[39;00m file \u001b[39min\u001b[39;00m {\u001b[39m0\u001b[39m, \u001b[39m1\u001b[39m, \u001b[39m2\u001b[39m}:\n\u001b[0;32m    278\u001b[0m     \u001b[39mraise\u001b[39;00m \u001b[39mValueError\u001b[39;00m(\n\u001b[0;32m    279\u001b[0m         \u001b[39mf\u001b[39m\u001b[39m\"\u001b[39m\u001b[39mIPython won\u001b[39m\u001b[39m'\u001b[39m\u001b[39mt let you open fd=\u001b[39m\u001b[39m{\u001b[39;00mfile\u001b[39m}\u001b[39;00m\u001b[39m by default \u001b[39m\u001b[39m\"\u001b[39m\n\u001b[0;32m    280\u001b[0m         \u001b[39m\"\u001b[39m\u001b[39mas it is likely to crash IPython. If you know what you are doing, \u001b[39m\u001b[39m\"\u001b[39m\n\u001b[0;32m    281\u001b[0m         \u001b[39m\"\u001b[39m\u001b[39myou can use builtins\u001b[39m\u001b[39m'\u001b[39m\u001b[39m open.\u001b[39m\u001b[39m\"\u001b[39m\n\u001b[0;32m    282\u001b[0m     )\n\u001b[1;32m--> 284\u001b[0m \u001b[39mreturn\u001b[39;00m io_open(file, \u001b[39m*\u001b[39margs, \u001b[39m*\u001b[39m\u001b[39m*\u001b[39mkwargs)\n",
      "\u001b[1;31mFileNotFoundError\u001b[0m: [Errno 2] No such file or directory: ''"
     ]
    }
   ],
   "source": [
    "with open(pdf_file_path, 'rb') as file:\n",
    "    pdf_reader = PyPDF2.PdfReader(file)\n",
    "    num_pages = len(pdf_reader.pages)\n",
    "    \n",
    "    articles, text_contents = extract_articles(pdf_reader)"
   ]
  },
  {
   "cell_type": "code",
   "execution_count": null,
   "metadata": {},
   "outputs": [
    {
     "name": "stdout",
     "output_type": "stream",
     "text": [
      "          Article                                               Text\n",
      "0      Artigo 1.º  A execução de novas edificações ou de quaisque...\n",
      "1      Artigo 2.º  A execução das obras e trabalhos a que alude o...\n",
      "2      Artigo 3.º  As câmaras municipais não poderão conceder lic...\n",
      "3      Artigo 3.º  Artigo 3.º-A É permitido as câmaras municipais...\n",
      "4      Artigo 4.º  A concessão da licença para a execução de  qua...\n",
      "..            ...                                                ...\n",
      "124  Artigo 165.º  As câmaras municipais poderão ordenar,  indepe...\n",
      "125  Artigo 166.º  Quando o proprietário não começar as obra s de...\n",
      "126  Artigo 167.º  A demolição das obras referidas no artigo  165...\n",
      "127  Artigo 168.º  As câmaras municipais poderão ordenar o despej...\n",
      "128  Artigo 169.º  Os serviços do Estado e das autarquias locais,...\n",
      "\n",
      "[129 rows x 2 columns]\n"
     ]
    }
   ],
   "source": [
    "# Convert all elements in the 'Article' column to strings\n",
    "articles = [str(article) for article in articles]\n",
    "\n",
    "data = {'Article': articles, 'Text': text_contents}\n",
    "df = pd.DataFrame(data)\n",
    "\n",
    "df['Article'] = df['Article'].str.replace('Artigo n.º', '').str.strip()\n",
    "\n",
    "print(df)"
   ]
  },
  {
   "cell_type": "code",
   "execution_count": null,
   "metadata": {},
   "outputs": [
    {
     "name": "stdout",
     "output_type": "stream",
     "text": [
      "DataFrame extracted and saved to extraction_rgeu.csv\n"
     ]
    }
   ],
   "source": [
    "# Create the output CSV file name based on the PDF file name\n",
    "output_csv_file = f\"extraction_{pdf_file_path.split('/')[-1].replace('.pdf', '')}.csv\"\n",
    "\n",
    "# Save the DataFrame as a CSV file\n",
    "df.to_csv(output_csv_file, index=False)\n",
    "\n",
    "print(f\"DataFrame extracted and saved to {output_csv_file}\")"
   ]
  },
  {
   "cell_type": "code",
   "execution_count": null,
   "metadata": {},
   "outputs": [],
   "source": []
  }
 ],
 "metadata": {
  "kernelspec": {
   "display_name": "llm_law",
   "language": "python",
   "name": "python3"
  },
  "language_info": {
   "codemirror_mode": {
    "name": "ipython",
    "version": 3
   },
   "file_extension": ".py",
   "mimetype": "text/x-python",
   "name": "python",
   "nbconvert_exporter": "python",
   "pygments_lexer": "ipython3",
   "version": "3.10.12"
  },
  "orig_nbformat": 4
 },
 "nbformat": 4,
 "nbformat_minor": 2
}
